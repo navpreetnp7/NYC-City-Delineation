{
 "cells": [
  {
   "cell_type": "code",
   "execution_count": 143,
   "metadata": {},
   "outputs": [],
   "source": [
    "import networkx as nx\n",
    "import pandas as pd\n",
    "import numpy as np\n",
    "from utils import load_data,normalize,doublerelu\n",
    "import torch\n",
    "import torch.nn as nn\n",
    "import torch.optim as optim\n",
    "from torch.nn.parameter import Parameter\n",
    "from torch.nn.modules.module import Module\n",
    "torch.set_printoptions(sci_mode=False)\n",
    "import time"
   ]
  },
  {
   "cell_type": "code",
   "execution_count": 144,
   "metadata": {},
   "outputs": [],
   "source": [
    "import warnings\n",
    "warnings.filterwarnings(\"ignore\") "
   ]
  },
  {
   "cell_type": "code",
   "execution_count": 179,
   "metadata": {},
   "outputs": [],
   "source": [
    "cuda = torch.cuda.is_available()\n",
    "weight_decay = 10e-4\n",
    "epochs = 1000\n",
    "seed = 165\n",
    "hidden = 10\n",
    "lr = 0.000001"
   ]
  },
  {
   "cell_type": "code",
   "execution_count": 146,
   "metadata": {},
   "outputs": [],
   "source": [
    "np.random.seed(seed)\n",
    "torch.manual_seed(seed)\n",
    "if cuda:\n",
    "    torch.cuda.manual_seed(seed)"
   ]
  },
  {
   "cell_type": "code",
   "execution_count": 147,
   "metadata": {},
   "outputs": [],
   "source": [
    "class GNN1Layer(Module):\n",
    "\n",
    "    def __init__(self, batch_size, in_features, out_features):\n",
    "        super(GNN1Layer, self).__init__()\n",
    "        self.in_features = in_features\n",
    "        self.out_features = out_features\n",
    "        self.batch_size = batch_size\n",
    "\n",
    "        weight1_eye = torch.FloatTensor(torch.eye(in_features, out_features))\n",
    "        weight1_eye = weight1_eye.reshape((1, in_features, out_features))\n",
    "        weight1_eye = weight1_eye.repeat(batch_size, 1, 1)\n",
    "        self.weight1 = Parameter(weight1_eye)\n",
    "        self.weight2 = Parameter(torch.zeros(batch_size, in_features, out_features))\n",
    "\n",
    "    def forward(self, input, adj):\n",
    "        v1 = torch.bmm(input, self.weight1)\n",
    "        v2 = torch.bmm(torch.bmm(adj, input), self.weight2)\n",
    "        output = v1 + v2\n",
    "        return output"
   ]
  },
  {
   "cell_type": "code",
   "execution_count": 148,
   "metadata": {},
   "outputs": [],
   "source": [
    "class GNN2Layer(Module):\n",
    "\n",
    "    def __init__(self, batch_size, in_features, out_features):\n",
    "        super(GNN2Layer, self).__init__()\n",
    "        self.in_features = in_features\n",
    "        self.out_features = out_features\n",
    "        self.batch_size = batch_size\n",
    "        weight1_eye = torch.FloatTensor(torch.eye(in_features, out_features))\n",
    "        weight1_eye = weight1_eye.reshape((1, in_features, out_features))\n",
    "        weight1_eye = weight1_eye.repeat(batch_size, 1, 1)\n",
    "        weight1_rand = torch.empty(batch_size,in_features,out_features-in_features)\n",
    "        torch.nn.init.xavier_uniform_(weight1_rand, gain=1.0)\n",
    "        self.weight1 = Parameter(weight1_eye)\n",
    "        self.weight2 = Parameter(torch.zeros(batch_size, in_features, out_features))\n",
    "\n",
    "    def forward(self, input, adj):\n",
    "        v1 = torch.bmm(input, self.weight1)\n",
    "        v2 = torch.bmm(torch.bmm(adj, input), self.weight2)\n",
    "        output = v1 + v2\n",
    "        return output"
   ]
  },
  {
   "cell_type": "code",
   "execution_count": 149,
   "metadata": {},
   "outputs": [],
   "source": [
    "class GNN1(nn.Module):\n",
    "\n",
    "    def __init__(self, batch_size, nfeat, ndim, hidden):\n",
    "        super(GNN1, self).__init__()\n",
    "\n",
    "        self.gc1 = GNN1Layer(batch_size, ndim, ndim)\n",
    "\n",
    "    def forward(self, x, adj):\n",
    "        x = doublerelu(self.gc1(x, adj))\n",
    "        x = x/x.sum(axis=2).unsqueeze(2) #normalize st sum = 1\n",
    "        return x"
   ]
  },
  {
   "cell_type": "code",
   "execution_count": 150,
   "metadata": {},
   "outputs": [],
   "source": [
    "class GNN2(nn.Module):\n",
    "\n",
    "    def __init__(self, batch_size, nfeat, ndim, hidden):\n",
    "        super(GNN2, self).__init__()\n",
    "\n",
    "        self.gc1 = GNN2Layer(batch_size, ndim, hidden)\n",
    "        self.gc2 = GNN1Layer(batch_size, hidden, ndim)\n",
    "\n",
    "    def forward(self, x, adj):\n",
    "        x = doublerelu(self.gc1(x, adj))\n",
    "        x = doublerelu(self.gc2(x, adj))\n",
    "        x = x/x.sum(axis=2).unsqueeze(2) #normalize st sum = 1\n",
    "        return x"
   ]
  },
  {
   "cell_type": "code",
   "execution_count": 184,
   "metadata": {},
   "outputs": [],
   "source": [
    "def train(adj,feature,labels):\n",
    "    \n",
    "    adj_norm = normalize(adj)\n",
    "    \n",
    "    feature = feature - 1\n",
    "    nb_label = int(max(feature))+1\n",
    "    features = np.eye(nb_label)[np.array(feature,dtype=int).reshape(1,-1)]\n",
    "    \n",
    "    labels = labels - 1\n",
    "    \n",
    "    adj = torch.FloatTensor(adj)\n",
    "    adj_norm = torch.FloatTensor(adj_norm)\n",
    "    features = torch.FloatTensor(features)\n",
    "    labels = torch.FloatTensor(labels)\n",
    "    \n",
    "    model = GNN1(batch_size=adj.shape[0],\n",
    "                nfeat=adj.shape[1],\n",
    "                ndim=nb_label,\n",
    "                hidden=hidden)\n",
    "    if cuda:\n",
    "        model.cuda()\n",
    "        features = features.cuda()\n",
    "        adj = adj.cuda()\n",
    "        adj_norm = adj_norm.cuda()\n",
    "        labels = labels.cuda()\n",
    "    \n",
    "    # Train model\n",
    "    t_total = time.time()\n",
    "\n",
    "    optimizer = optim.Adam(model.parameters(),\n",
    "                           lr=lr, weight_decay=weight_decay)\n",
    "    \n",
    "    criterion = nn.CrossEntropyLoss()\n",
    "    \n",
    "    \n",
    "    for epoch in range(epochs):\n",
    "\n",
    "        t = time.time()\n",
    "        model.train()\n",
    "        optimizer.zero_grad()\n",
    "\n",
    "        output = model(features, adj_norm)\n",
    "        \n",
    "        loss = criterion(output[0],labels.reshape(-1).long())\n",
    "\n",
    "        loss.backward(retain_graph=True)\n",
    "\n",
    "        optimizer.step()\n",
    "\n",
    "        if epoch == 0:\n",
    "            best_loss = loss\n",
    "            best_output = output\n",
    "        else:\n",
    "            if loss < best_loss:\n",
    "                best_loss = loss\n",
    "                best_output = output\n",
    "\n",
    "        if epoch % 100 == 0:\n",
    "            print('Epoch: {:04d}'.format(epoch + 1),\n",
    "                  'Loss: {:.8f}'.format(loss.item()),\n",
    "                  'time: {:.4f}s'.format(time.time() - t))\n",
    "            \n",
    "    print(\"Optimization Finished!\")\n",
    "    print(\"Total time elapsed: {:.4f}s\".format(time.time() - t_total))\n",
    "    \n",
    "    return best_loss,output"
   ]
  },
  {
   "cell_type": "code",
   "execution_count": 173,
   "metadata": {},
   "outputs": [
    {
     "name": "stdout",
     "output_type": "stream",
     "text": [
      "Epoch: 0001 Loss: -1.01517057 time: 0.0040s\n",
      "Epoch: 0101 Loss: -1.01517057 time: 0.0000s\n",
      "Epoch: 0201 Loss: -1.01517057 time: 0.0040s\n",
      "Epoch: 0301 Loss: -1.01517057 time: 0.0020s\n",
      "Epoch: 0401 Loss: -1.01517057 time: 0.0020s\n",
      "Epoch: 0501 Loss: -1.01517057 time: 0.0020s\n",
      "Epoch: 0601 Loss: -1.01517057 time: 0.0000s\n",
      "Epoch: 0701 Loss: -1.01517057 time: 0.0020s\n",
      "Epoch: 0801 Loss: -1.01517057 time: 0.0000s\n",
      "Epoch: 0901 Loss: -1.01517057 time: 0.0000s\n",
      "Optimization Finished!\n",
      "Total time elapsed: 1.4867s\n"
     ]
    }
   ],
   "source": [
    "adj,feature,labels = load_data()\n",
    "loss, op = train(adj,feature,labels)"
   ]
  },
  {
   "cell_type": "code",
   "execution_count": 185,
   "metadata": {},
   "outputs": [
    {
     "name": "stdout",
     "output_type": "stream",
     "text": [
      "Epoch: 0001 Loss: 1.01517057 time: 0.0000s\n",
      "Epoch: 0101 Loss: 1.01517057 time: 0.0000s\n",
      "Epoch: 0201 Loss: 1.01517057 time: 0.0000s\n",
      "Epoch: 0301 Loss: 1.01517057 time: 0.0000s\n",
      "Epoch: 0401 Loss: 1.01517057 time: 0.0000s\n",
      "Epoch: 0501 Loss: 1.01517057 time: 0.0000s\n",
      "Epoch: 0601 Loss: 1.01517057 time: 0.0000s\n",
      "Epoch: 0701 Loss: 1.01517057 time: 0.0000s\n",
      "Epoch: 0801 Loss: 1.01517057 time: 0.0000s\n",
      "Epoch: 0901 Loss: 1.01517057 time: 0.0000s\n",
      "Optimization Finished!\n",
      "Total time elapsed: 2.7589s\n"
     ]
    }
   ],
   "source": [
    "loss, op = train(adj,feature,labels)"
   ]
  },
  {
   "cell_type": "code",
   "execution_count": 186,
   "metadata": {},
   "outputs": [
    {
     "data": {
      "text/plain": [
       "tensor([[[0., 1., 0., 0., 0.],\n",
       "         [0., 1., 0., 0., 0.],\n",
       "         [0., 1., 0., 0., 0.],\n",
       "         ...,\n",
       "         [0., 0., 0., 0., 1.],\n",
       "         [0., 0., 0., 0., 1.],\n",
       "         [0., 0., 0., 0., 1.]]], device='cuda:0', grad_fn=<DivBackward0>)"
      ]
     },
     "execution_count": 186,
     "metadata": {},
     "output_type": "execute_result"
    }
   ],
   "source": [
    "op"
   ]
  },
  {
   "cell_type": "code",
   "execution_count": null,
   "metadata": {},
   "outputs": [],
   "source": []
  }
 ],
 "metadata": {
  "kernelspec": {
   "display_name": "Python 3",
   "language": "python",
   "name": "python3"
  },
  "language_info": {
   "codemirror_mode": {
    "name": "ipython",
    "version": 3
   },
   "file_extension": ".py",
   "mimetype": "text/x-python",
   "name": "python",
   "nbconvert_exporter": "python",
   "pygments_lexer": "ipython3",
   "version": "3.8.7"
  }
 },
 "nbformat": 4,
 "nbformat_minor": 4
}

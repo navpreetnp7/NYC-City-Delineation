{
 "cells": [
  {
   "cell_type": "code",
   "execution_count": null,
   "metadata": {},
   "outputs": [],
   "source": [
    "import networkx as nx\n",
    "import pandas as pd\n",
    "import numpy as np\n",
    "from utils import load_data,normalize,doublerelu\n",
    "import torch\n",
    "import torch.nn as nn\n",
    "import torch.optim as optim\n",
    "from torch.nn.parameter import Parameter\n",
    "from torch.nn.modules.module import Module\n",
    "torch.set_printoptions(sci_mode=False)\n",
    "import time"
   ]
  },
  {
   "cell_type": "code",
   "execution_count": null,
   "metadata": {},
   "outputs": [],
   "source": [
    "import warnings\n",
    "warnings.filterwarnings(\"ignore\") "
   ]
  },
  {
   "cell_type": "code",
   "execution_count": null,
   "metadata": {},
   "outputs": [],
   "source": [
    "cuda = torch.cuda.is_available()\n",
    "weight_decay = 10e-4\n",
    "epochs = 10001\n",
    "seed = 165\n",
    "hidden = 10\n",
    "lr = 0.0001"
   ]
  },
  {
   "cell_type": "code",
   "execution_count": null,
   "metadata": {},
   "outputs": [],
   "source": [
    "np.random.seed(seed)\n",
    "torch.manual_seed(seed)\n",
    "if cuda:\n",
    "    torch.cuda.manual_seed(seed)"
   ]
  },
  {
   "cell_type": "code",
   "execution_count": null,
   "metadata": {},
   "outputs": [],
   "source": [
    "class GNN1Layer(Module):\n",
    "\n",
    "    def __init__(self, batch_size, in_features, out_features):\n",
    "        super(GNN1Layer, self).__init__()\n",
    "        self.in_features = in_features\n",
    "        self.out_features = out_features\n",
    "        self.batch_size = batch_size\n",
    "\n",
    "        weight1_eye = torch.FloatTensor(torch.eye(in_features, out_features))\n",
    "        weight1_eye = weight1_eye.reshape((1, in_features, out_features))\n",
    "        weight1_eye = weight1_eye.repeat(batch_size, 1, 1)\n",
    "        self.weight1 = Parameter(weight1_eye)\n",
    "        self.weight2 = Parameter(torch.zeros(batch_size, in_features, out_features))\n",
    "\n",
    "    def forward(self, input, adj):\n",
    "        v1 = torch.bmm(input, self.weight1)\n",
    "        v2 = torch.bmm(torch.bmm(adj, input), self.weight2)\n",
    "        output = v1 + v2\n",
    "        return output"
   ]
  },
  {
   "cell_type": "code",
   "execution_count": null,
   "metadata": {},
   "outputs": [],
   "source": [
    "class GNN1(nn.Module):\n",
    "\n",
    "    def __init__(self, batch_size, nfeat, ndim, hidden):\n",
    "        super(GNN1, self).__init__()\n",
    "\n",
    "        self.gc1 = GNN1Layer(batch_size, ndim, ndim)\n",
    "\n",
    "    def forward(self, x, adj, random_indices):\n",
    "        f = torch.clone(x)\n",
    "        x = doublerelu(self.gc1(x, adj))\n",
    "        x = x/x.sum(axis=2).unsqueeze(2) #normalize st sum = 1\n",
    "\n",
    "        f[0][random_indices, :] = x[0][random_indices, :]\n",
    "        \n",
    "        return f"
   ]
  },
  {
   "cell_type": "code",
   "execution_count": null,
   "metadata": {},
   "outputs": [],
   "source": [
    "def train(adj,features,labels,random_indices,test_random_indices, test_features):\n",
    "    \n",
    "    adj_norm = normalize(adj)\n",
    "    \n",
    "    labels = labels - 1\n",
    "    \n",
    "    adj = torch.FloatTensor(adj)\n",
    "    adj_norm = torch.FloatTensor(adj_norm)\n",
    "    features = torch.FloatTensor(features)\n",
    "    labels = torch.FloatTensor(labels)\n",
    "    test_features = torch.FloatTensor(test_features)\n",
    "    \n",
    "    model = GNN1(batch_size=adj.shape[0],\n",
    "                nfeat=adj.shape[1],\n",
    "                ndim=nb_label,\n",
    "                hidden=hidden)\n",
    "    if cuda:\n",
    "        model.cuda()\n",
    "        features = features.cuda()\n",
    "        adj = adj.cuda()\n",
    "        adj_norm = adj_norm.cuda()\n",
    "        labels = labels.cuda()\n",
    "        test_features = test_features.cuda()\n",
    "    \n",
    "    # Train model\n",
    "    t_total = time.time()\n",
    "\n",
    "    optimizer = optim.Adam(model.parameters(),\n",
    "                           lr=lr, weight_decay=weight_decay)\n",
    "    \n",
    "    criterion = nn.CrossEntropyLoss()\n",
    "    \n",
    "    for epoch in range(epochs):\n",
    "\n",
    "        t = time.time()\n",
    "        model.train()\n",
    "        optimizer.zero_grad()\n",
    "\n",
    "        output = model(features, adj_norm, random_indices)\n",
    "            \n",
    "        # Mask accuracy\n",
    "        accuracy = torch.sum(torch.argmax(output[0][random_indices, :],axis=1)==labels[random_indices, :].reshape(1,-1))/labels[random_indices, :].shape[0]\n",
    "        \n",
    "        #Test accuracy\n",
    "        with torch.no_grad():\n",
    "            test_output = model(test_features, adj_norm, test_random_indices)\n",
    "            test_accuracy = torch.sum(torch.argmax(test_output[0][test_random_indices, :],axis=1)==labels[test_random_indices, :].reshape(1,-1))/labels[test_random_indices, :].shape[0]\n",
    "        \n",
    "        loss = criterion(output[0],labels.reshape(-1).long())\n",
    "\n",
    "        loss.backward(retain_graph=True)\n",
    "\n",
    "        optimizer.step()\n",
    "\n",
    "        if epoch == 0:\n",
    "            best_loss = loss\n",
    "            best_output = output\n",
    "            best_acc = accuracy\n",
    "            init_acc = accuracy\n",
    "            best_test_acc = test_accuracy\n",
    "            best_test_op = test_output\n",
    "        else:\n",
    "            if loss < best_loss:\n",
    "                best_loss = loss\n",
    "                best_output = output\n",
    "                best_acc = accuracy\n",
    "                best_test_acc = test_accuracy\n",
    "                best_test_op = test_output\n",
    "\n",
    "        if epoch % 1000 == 0:\n",
    "            print('Epoch: {:04d}'.format(epoch + 1),\n",
    "                  'Train Accuracy: {:.4f}'.format(best_acc.item()),\n",
    "                  'Test Accuracy: {:.4f}'.format(best_test_acc.item()),\n",
    "                  'Loss: {:.8f}'.format(best_loss.item()),\n",
    "                  'time: {:.4f}s'.format(time.time() - t))\n",
    "            \n",
    "    print(\"Optimization Finished!\")\n",
    "    print(\"Total time elapsed: {:.4f}s\".format(time.time() - t_total))\n",
    "    \n",
    "    return best_loss,best_output, init_acc, best_acc, best_test_op, best_test_acc"
   ]
  },
  {
   "cell_type": "code",
   "execution_count": null,
   "metadata": {},
   "outputs": [],
   "source": [
    "adj,feature,labels = load_data()\n",
    "\n",
    "#feature = feature - 1\n",
    "#nb_label = int(max(feature))+1\n",
    "#featuress = np.eye(nb_label)[np.array(feature,dtype=int).reshape(1,-1)]"
   ]
  },
  {
   "cell_type": "code",
   "execution_count": null,
   "metadata": {},
   "outputs": [],
   "source": [
    "label = np.copy(labels)\n",
    "label = label - 1\n",
    "nb_label = int(max(label))+1\n",
    "featuress = np.eye(nb_label)[np.array(label,dtype=int).reshape(1,-1)]"
   ]
  },
  {
   "cell_type": "code",
   "execution_count": null,
   "metadata": {},
   "outputs": [],
   "source": [
    "mask_percentage = [0.2]\n",
    "init = []\n",
    "final = []\n",
    "test_init = []\n",
    "test_final = []\n",
    "for m in mask_percentage:\n",
    "    \n",
    "    features = np.copy(featuress)\n",
    "    test_features = np.copy(featuress)\n",
    "    # Masking\n",
    "    number_of_rows = features[0].shape[0]\n",
    "    random_indices = np.random.choice(number_of_rows, size=int(m*number_of_rows), replace=False)\n",
    "    random_rows = features[0][random_indices, :]\n",
    "    features[0][random_indices, :] = np.tile(np.array([[0.2]]),random_rows.shape)\n",
    "    \n",
    "    test_random_indices = np.random.choice(number_of_rows, size=int(0.2*number_of_rows), replace=False)\n",
    "    test_random_rows = test_features[0][test_random_indices, :]\n",
    "    test_features[0][test_random_indices, :] = np.tile(np.array([[0.2]]),test_random_rows.shape)\n",
    "    \n",
    "    print(\"\\nMasked {}% of nodes\\n\".format(int(m*100)))\n",
    "    prev_loss, op, acc, _, test_op, test_acc = train(adj,features,labels, random_indices, test_random_indices, test_features)\n",
    "    init.append(acc.item())\n",
    "    test_init.append(test_acc.item())\n",
    "    #print(op)\n",
    "    loss, op, _, acc, test_op, test_acc = train(adj,op.cpu().detach().numpy(),labels, random_indices, test_random_indices, test_op.cpu().detach().numpy())\n",
    "    i = 0\n",
    "    while loss < prev_loss :\n",
    "        i += 1\n",
    "        if i >= 2:\n",
    "            break\n",
    "        prev_loss = loss\n",
    "        loss, op, _, acc, test_op, test_acc = train(adj,op.cpu().detach().numpy(),labels, random_indices, test_random_indices, test_op.cpu().detach().numpy())\n",
    "    final.append(acc.item())\n",
    "    test_final.append(test_acc.item())\n",
    "    "
   ]
  },
  {
   "cell_type": "code",
   "execution_count": null,
   "metadata": {},
   "outputs": [],
   "source": [
    "d = {'Mask Percentage': [30], 'Train Initial Accuracy': init, 'Train Final Accuracy': final, 'Test Initial Accuracy': test_init, 'Test Final Accuracy': test_final}"
   ]
  },
  {
   "cell_type": "code",
   "execution_count": null,
   "metadata": {},
   "outputs": [],
   "source": [
    "df = pd.DataFrame(data=d)"
   ]
  },
  {
   "cell_type": "code",
   "execution_count": null,
   "metadata": {},
   "outputs": [],
   "source": [
    "df"
   ]
  },
  {
   "cell_type": "code",
   "execution_count": null,
   "metadata": {},
   "outputs": [],
   "source": []
  }
 ],
 "metadata": {
  "kernelspec": {
   "display_name": "Python 3",
   "language": "python",
   "name": "python3"
  },
  "language_info": {
   "codemirror_mode": {
    "name": "ipython",
    "version": 3
   },
   "file_extension": ".py",
   "mimetype": "text/x-python",
   "name": "python",
   "nbconvert_exporter": "python",
   "pygments_lexer": "ipython3",
   "version": "3.8.7"
  }
 },
 "nbformat": 4,
 "nbformat_minor": 4
}
